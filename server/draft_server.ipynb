{
 "cells": [
  {
   "cell_type": "code",
   "execution_count": 1,
   "metadata": {},
   "outputs": [
    {
     "name": "stderr",
     "output_type": "stream",
     "text": [
      "Using TensorFlow backend.\n"
     ]
    }
   ],
   "source": [
    "import subprocess\n",
    "\n",
    "from flask import Flask, request, Response\n",
    "import jsonpickle\n",
    "import numpy as np\n",
    "import cv2\n",
    "import tensorflow as tf\n",
    "\n",
    "from models.recognizer import FruitRecognizer"
   ]
  },
  {
   "cell_type": "code",
   "execution_count": null,
   "metadata": {},
   "outputs": [],
   "source": [
    "global graph\n",
    "graph = tf.get_default_graph()"
   ]
  },
  {
   "cell_type": "code",
   "execution_count": 3,
   "metadata": {},
   "outputs": [],
   "source": [
    "reco = FruitRecognizer(model_path=\"models\\saved_models\\model1_vgg16_architecture.json\",\n",
    "                        weights_path=\"models\\saved_models\\model1_vgg16_best1_weights.hdf5\")"
   ]
  },
  {
   "cell_type": "code",
   "execution_count": 4,
   "metadata": {},
   "outputs": [],
   "source": [
    "app = Flask(__name__)\n",
    "\n",
    "# route http posts to this method\n",
    "@app.route('/api/test', methods=['POST'])\n",
    "def test():\n",
    "    r = request\n",
    "    # convert string of image data to uint8\n",
    "    nparr = np.fromstring(r.data, np.uint8)\n",
    "\n",
    "    # decode image\n",
    "    img = cv2.imdecode(nparr, cv2.IMREAD_COLOR)\n",
    "\n",
    "    # do some fancy processing here.... \n",
    "    with graph.as_default():\n",
    "        res = reco.predict(img)\n",
    "\n",
    "    # build a response dict to send back to client\n",
    "    response = {'message': 'Your fruict is {}'.format(res)\n",
    "                }\n",
    "    # encode response using jsonpickle\n",
    "    response_pickled = jsonpickle.encode(response)\n",
    "\n",
    "    return Response(response=response_pickled, status=200, mimetype=\"application/json\")"
   ]
  },
  {
   "cell_type": "code",
   "execution_count": null,
   "metadata": {},
   "outputs": [
    {
     "name": "stdout",
     "output_type": "stream",
     "text": [
      " * Serving Flask app \"__main__\" (lazy loading)\n",
      " * Environment: production\n",
      "   WARNING: Do not use the development server in a production environment.\n",
      "   Use a production WSGI server instead.\n",
      " * Debug mode: off\n"
     ]
    },
    {
     "name": "stderr",
     "output_type": "stream",
     "text": [
      " * Running on http://0.0.0.0:5000/ (Press CTRL+C to quit)\n",
      "C:\\My_programs\\Miniconda3\\lib\\site-packages\\ipykernel_launcher.py:8: DeprecationWarning: The binary mode of fromstring is deprecated, as it behaves surprisingly on unicode inputs. Use frombuffer instead\n",
      "  \n",
      "127.0.0.1 - - [04/Nov/2018 21:14:54] \"\u001b[37mPOST /api/test HTTP/1.1\u001b[0m\" 200 -\n",
      "127.0.0.1 - - [04/Nov/2018 21:14:55] \"\u001b[37mPOST /api/test HTTP/1.1\u001b[0m\" 200 -\n",
      "127.0.0.1 - - [04/Nov/2018 21:14:58] \"\u001b[37mPOST /api/test HTTP/1.1\u001b[0m\" 200 -\n",
      "127.0.0.1 - - [04/Nov/2018 21:18:47] \"\u001b[37mPOST /api/test HTTP/1.1\u001b[0m\" 200 -\n",
      "127.0.0.1 - - [04/Nov/2018 21:18:49] \"\u001b[37mPOST /api/test HTTP/1.1\u001b[0m\" 200 -\n"
     ]
    }
   ],
   "source": [
    "# start flask app\n",
    "app.run(host=\"0.0.0.0\", port=5000)"
   ]
  },
  {
   "cell_type": "code",
   "execution_count": null,
   "metadata": {},
   "outputs": [],
   "source": []
  }
 ],
 "metadata": {
  "kernelspec": {
   "display_name": "Python 3",
   "language": "python",
   "name": "python3"
  },
  "language_info": {
   "codemirror_mode": {
    "name": "ipython",
    "version": 3
   },
   "file_extension": ".py",
   "mimetype": "text/x-python",
   "name": "python",
   "nbconvert_exporter": "python",
   "pygments_lexer": "ipython3",
   "version": "3.6.5"
  }
 },
 "nbformat": 4,
 "nbformat_minor": 2
}
