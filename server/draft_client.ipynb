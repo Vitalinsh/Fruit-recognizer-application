{
 "cells": [
  {
   "cell_type": "code",
   "execution_count": 5,
   "metadata": {},
   "outputs": [],
   "source": [
    "import requests\n",
    "import json\n",
    "import cv2"
   ]
  },
  {
   "cell_type": "code",
   "execution_count": 6,
   "metadata": {},
   "outputs": [],
   "source": [
    "addr = 'http://localhost:5000'\n",
    "test_url = addr + '/api/test'"
   ]
  },
  {
   "cell_type": "code",
   "execution_count": 7,
   "metadata": {},
   "outputs": [],
   "source": [
    "# prepare headers for http request\n",
    "content_type = 'image/jpeg'\n",
    "headers = {'content-type': content_type}"
   ]
  },
  {
   "cell_type": "code",
   "execution_count": 16,
   "metadata": {},
   "outputs": [
    {
     "name": "stdout",
     "output_type": "stream",
     "text": [
      "{'message': 'Your fruict is Apple Golden 1'}\n"
     ]
    }
   ],
   "source": [
    "img = cv2.imread('lena.jpg')\n",
    "# encode image as jpe\n",
    "_, img_encoded = cv2.imencode('.jpg', img)\n",
    "# send http request with image and receive response\n",
    "response = requests.post(test_url, data=img_encoded.tostring(), headers=headers)\n",
    "# decode response\n",
    "print (json.loads(response.text))\n",
    "\n",
    "# expected output: {u'message': u'image received. size=124x124'}"
   ]
  },
  {
   "cell_type": "code",
   "execution_count": 14,
   "metadata": {},
   "outputs": [
    {
     "name": "stdout",
     "output_type": "stream",
     "text": [
      "{'message': 'Your fruict is Apple Golden 1'}\n"
     ]
    }
   ],
   "source": [
    "img = cv2.imread('lena.jpg')\n",
    "# encode image as jpe\n",
    "_, img_encoded = cv2.imencode('.jpg', img)\n",
    "# send http request with image and receive response\n",
    "response = requests.post(test_url, data=img_encoded.tostring(), headers=headers)\n",
    "# decode response\n",
    "print (json.loads(response.text))\n",
    "\n",
    "# expected output: {u'message': u'image received. size=124x124'}"
   ]
  },
  {
   "cell_type": "code",
   "execution_count": 11,
   "metadata": {},
   "outputs": [
    {
     "name": "stdout",
     "output_type": "stream",
     "text": [
      "{'message': 'Your fruict is Apple Golden 1'}\n"
     ]
    }
   ],
   "source": [
    "img = cv2.imread('lena.jpg')\n",
    "# encode image as jpe\n",
    "_, img_encoded = cv2.imencode('.jpg', img)\n",
    "# send http request with image and receive response\n",
    "response = requests.post(test_url, data=img_encoded.tostring(), headers=headers)\n",
    "# decode response\n",
    "print (json.loads(response.text))\n",
    "\n",
    "# expected output: {u'message': u'image received. size=124x124'}"
   ]
  },
  {
   "cell_type": "code",
   "execution_count": null,
   "metadata": {},
   "outputs": [],
   "source": []
  }
 ],
 "metadata": {
  "kernelspec": {
   "display_name": "Python 3",
   "language": "python",
   "name": "python3"
  },
  "language_info": {
   "codemirror_mode": {
    "name": "ipython",
    "version": 3
   },
   "file_extension": ".py",
   "mimetype": "text/x-python",
   "name": "python",
   "nbconvert_exporter": "python",
   "pygments_lexer": "ipython3",
   "version": "3.6.5"
  }
 },
 "nbformat": 4,
 "nbformat_minor": 2
}
