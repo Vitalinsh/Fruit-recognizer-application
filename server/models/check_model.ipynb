{
 "cells": [
  {
   "cell_type": "code",
   "execution_count": 1,
   "metadata": {},
   "outputs": [
    {
     "name": "stderr",
     "output_type": "stream",
     "text": [
      "Using TensorFlow backend.\n"
     ]
    }
   ],
   "source": [
    "import numpy as np\n",
    "import cv2\n",
    "import matplotlib.pyplot as plt\n",
    "import os\n",
    "\n",
    "from keras.models import model_from_json\n",
    "from keras.preprocessing.image import ImageDataGenerator"
   ]
  },
  {
   "cell_type": "code",
   "execution_count": 2,
   "metadata": {},
   "outputs": [],
   "source": [
    "model_path = os.path.join(\"D:\\\\Study\\Python\\Fruit-recognizer-application\",\n",
    "                          \"models\\saved_models\\model1_vgg16_architecture.json\")\n",
    "\n",
    "weights_path = os.path.join(\"D:\\\\Study\\Python\\Fruit-recognizer-application\",\n",
    "                          \"models\\saved_models\\model1_vgg16_best1_weights.hdf5\")"
   ]
  },
  {
   "cell_type": "code",
   "execution_count": 3,
   "metadata": {},
   "outputs": [],
   "source": [
    "test_path = os.path.join(\"dataset\", \"test_new\")\n",
    "classes = ['Apple Red Yellow', 'Apple Golden 1', 'Avocado', 'Avocado ripe', 'Banana',\n",
    "          'Cocos', 'Dates', 'Granadilla', 'Grape Pink', 'Grape White',\n",
    "          'Kiwi', 'Kumquats', 'Lemon', 'Lemon Meyer', 'Limes',\n",
    "          'Nectarine', 'Orange', 'Peach', 'Peach Flat', 'Apricot']\n",
    "n_classes = len(classes)\n",
    "\n",
    "img_height, img_width, n_channels = 100, 100, 3"
   ]
  },
  {
   "cell_type": "code",
   "execution_count": 4,
   "metadata": {},
   "outputs": [
    {
     "name": "stdout",
     "output_type": "stream",
     "text": [
      "Found 1633 images belonging to 20 classes.\n"
     ]
    }
   ],
   "source": [
    "datagen = ImageDataGenerator(rescale=1 / 255)\n",
    "\n",
    "test_generator =  datagen.flow_from_directory(\n",
    "    test_path,\n",
    "    classes=classes,\n",
    "    target_size=(img_width, img_height),\n",
    "    batch_size=32,\n",
    "    class_mode='categorical')"
   ]
  },
  {
   "cell_type": "code",
   "execution_count": 5,
   "metadata": {},
   "outputs": [],
   "source": [
    "with open(model_path, \"r\") as json_file:\n",
    "    loaded_model = json_file.read()\n",
    "loaded_model = model_from_json(loaded_model)\n",
    "\n",
    "loaded_model.load_weights(weights_path)\n",
    "\n",
    "loaded_model.compile(loss=\"categorical_crossentropy\", optimizer=\"adam\", metrics=[\"accuracy\"])"
   ]
  },
  {
   "cell_type": "code",
   "execution_count": 6,
   "metadata": {},
   "outputs": [
    {
     "name": "stdout",
     "output_type": "stream",
     "text": [
      "Test accuracy after last epoch = 0.9920391916717698\n"
     ]
    }
   ],
   "source": [
    "scores = loaded_model.evaluate_generator(test_generator)\n",
    "print(\"Test accuracy after last epoch =\", scores[1])"
   ]
  },
  {
   "cell_type": "markdown",
   "metadata": {},
   "source": [
    "### Test on real pictures"
   ]
  },
  {
   "cell_type": "code",
   "execution_count": 6,
   "metadata": {},
   "outputs": [
    {
     "data": {
      "text/plain": [
       "<matplotlib.image.AxesImage at 0x20cc90fac18>"
      ]
     },
     "execution_count": 6,
     "metadata": {},
     "output_type": "execute_result"
    },
    {
     "data": {
      "image/png": "[encoded data removed]",
      "text/plain": [
       "<Figure size 432x288 with 1 Axes>"
      ]
     },
     "metadata": {},
     "output_type": "display_data"
    }
   ],
   "source": [
    "#picture_path = os.path.join(\"dataset\", \"test\", \"Apricot\", \"3_100.jpg\")\n",
    "picture_path = \"nectarine-1.jpg\"\n",
    "picture_path = os.path.join(\"dataset\", \"test\", \"Peach Flat\", \"3_100.jpg\")\n",
    "image = cv2.imread(picture_path, cv2.IMREAD_COLOR)\n",
    "image = cv2.cvtColor(image, cv2.COLOR_RGB2BGR)\n",
    "image = cv2.resize(image, (100, 100))\n",
    "plt.imshow(image)"
   ]
  },
  {
   "cell_type": "code",
   "execution_count": 8,
   "metadata": {},
   "outputs": [
    {
     "name": "stdout",
     "output_type": "stream",
     "text": [
      "18\n"
     ]
    }
   ],
   "source": [
    "image = np.expand_dims(image, axis=0) / 255\n",
    "print(np.argmax(loaded_model.predict(image)))"
   ]
  },
  {
   "cell_type": "markdown",
   "metadata": {},
   "source": [
    "### Test FruitRecognizer class"
   ]
  },
  {
   "cell_type": "code",
   "execution_count": 7,
   "metadata": {},
   "outputs": [],
   "source": [
    "class FruitRecognizer():\n",
    "    \"\"\"Class for classification fruit on the picture\"\"\"\n",
    "    \n",
    "    def __init__(self, model_path=\"saved_models\\model1_vgg16_architecture.json\",\n",
    "                 weights_path=\"saved_models\\model1_vgg16_best1_weights.hdf5\"):\n",
    "        \"\"\"\n",
    "        Parameters:\n",
    "        model_path : json file path with the model to load.\n",
    "        path_weigths : hdf5 file path with weights to load.\n",
    "        \"\"\"\n",
    "        \n",
    "        with open(model_path, \"r\") as json_file:\n",
    "            loaded_model = json_file.read()\n",
    "        self.model = model_from_json(loaded_model)\n",
    "\n",
    "        self.model.load_weights(weights_path)\n",
    "        self.model.compile(loss=\"categorical_crossentropy\", optimizer=\"adam\", metrics=[\"accuracy\"])\n",
    "        \n",
    "    def predict(self, image, return_probs=False):\n",
    "        \"\"\"\n",
    "        Parameters:\n",
    "        image : ndarray of shape like (100, 100, 3)\n",
    "            Represents 3-channel picture.\n",
    "        \n",
    "        Returns:\n",
    "        predict : int, if return_probs == False\n",
    "                  ndarray of class probabilities, if return_probs == True\n",
    "        \"\"\"\n",
    "        image = cv2.resize(image, (100, 100))\n",
    "        image = np.expand_dims(image, axis=0) / 255\n",
    "\n",
    "        if return_probs:\n",
    "            predict = self.model.predict(image)\n",
    "        else:\n",
    "            predict = np.argmax(self.model.predict(image))\n",
    "        \n",
    "        return predict\n",
    "        "
   ]
  },
  {
   "cell_type": "code",
   "execution_count": 6,
   "metadata": {},
   "outputs": [],
   "source": [
    "import cv2, os\n",
    "\n",
    "picture_path = os.path.join(\"dataset\", \"test\", \"Apricot\", \"3_100.jpg\")\n",
    "#picture_path = \"nectarine-1.jpg\"\n",
    "#picture_path = os.path.join(\"dataset\", \"test\", \"Peach Flat\", \"3_100.jpg\")\n",
    "\n",
    "image = cv2.imread(picture_path, cv2.IMREAD_COLOR)\n",
    "image = cv2.cvtColor(image, cv2.COLOR_RGB2BGR)\n",
    "image = cv2.resize(image, (100, 100))\n",
    "#plt.imshow(image)"
   ]
  },
  {
   "cell_type": "code",
   "execution_count": 13,
   "metadata": {},
   "outputs": [],
   "source": [
    "CNN = FruitRecognizer()"
   ]
  },
  {
   "cell_type": "code",
   "execution_count": 14,
   "metadata": {},
   "outputs": [
    {
     "data": {
      "text/plain": [
       "19"
      ]
     },
     "execution_count": 14,
     "metadata": {},
     "output_type": "execute_result"
    }
   ],
   "source": [
    "CNN.predict(image)"
   ]
  },
  {
   "cell_type": "markdown",
   "metadata": {},
   "source": [
    "### Test recognizer module"
   ]
  },
  {
   "cell_type": "code",
   "execution_count": 1,
   "metadata": {},
   "outputs": [
    {
     "name": "stderr",
     "output_type": "stream",
     "text": [
      "Using TensorFlow backend.\n"
     ]
    }
   ],
   "source": [
    "import recognizer"
   ]
  },
  {
   "cell_type": "code",
   "execution_count": 2,
   "metadata": {},
   "outputs": [],
   "source": [
    "model = recognizer.FruitRecognizer()"
   ]
  },
  {
   "cell_type": "code",
   "execution_count": 7,
   "metadata": {},
   "outputs": [
    {
     "data": {
      "text/plain": [
       "19"
      ]
     },
     "execution_count": 7,
     "metadata": {},
     "output_type": "execute_result"
    }
   ],
   "source": [
    "model.predict(image)"
   ]
  },
  {
   "cell_type": "code",
   "execution_count": 19,
   "metadata": {},
   "outputs": [
    {
     "name": "stdout",
     "output_type": "stream",
     "text": [
      "52/52 [==============================] - 36s 690ms/step\n",
      "Test accuracy after last epoch = 0.9920391916717698\n"
     ]
    }
   ],
   "source": [
    "scores = model.model.evaluate_generator(test_generator, verbose=1)\n",
    "print(\"Test accuracy after last epoch =\", scores[1])"
   ]
  },
  {
   "cell_type": "code",
   "execution_count": null,
   "metadata": {},
   "outputs": [],
   "source": []
  }
 ],
 "metadata": {
  "kernelspec": {
   "display_name": "Python 3",
   "language": "python",
   "name": "python3"
  },
  "language_info": {
   "codemirror_mode": {
    "name": "ipython",
    "version": 3
   },
   "file_extension": ".py",
   "mimetype": "text/x-python",
   "name": "python",
   "nbconvert_exporter": "python",
   "pygments_lexer": "ipython3",
   "version": "3.6.5"
  }
 },
 "nbformat": 4,
 "nbformat_minor": 2
}
