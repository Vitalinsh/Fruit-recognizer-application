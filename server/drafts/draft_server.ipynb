{
 "cells": [
  {
   "cell_type": "code",
   "execution_count": 1,
   "metadata": {},
   "outputs": [
    {
     "name": "stderr",
     "output_type": "stream",
     "text": [
      "Using TensorFlow backend.\n"
     ]
    }
   ],
   "source": [
    "import subprocess\n",
    "\n",
    "from flask import Flask, request, Response\n",
    "import jsonpickle\n",
    "import numpy as np\n",
    "import cv2\n",
    "import tensorflow as tf\n",
    "\n",
    "from models.recognizer import FruitRecognizer"
   ]
  },
  {
   "cell_type": "code",
   "execution_count": 2,
   "metadata": {},
   "outputs": [],
   "source": [
    "global graph\n",
    "graph = tf.get_default_graph()"
   ]
  },
  {
   "cell_type": "code",
   "execution_count": 3,
   "metadata": {},
   "outputs": [],
   "source": [
    "reco = FruitRecognizer(model_path=\"models\\saved_models\\model1_vgg16_architecture.json\",\n",
    "                        weights_path=\"models\\saved_models\\model1_vgg16_best1_weights.hdf5\")"
   ]
  },
  {
   "cell_type": "code",
   "execution_count": 7,
   "metadata": {},
   "outputs": [],
   "source": [
    "app = Flask(__name__)\n",
    "\n",
    "# route http posts to this method\n",
    "@app.route('/api/recognize_fruit', methods=['POST'])\n",
    "def test():\n",
    "    r = request\n",
    "    # convert string of image data to uint8\n",
    "    nparr = np.fromstring(r.data, np.uint8)\n",
    "\n",
    "    # decode image\n",
    "    img = cv2.imdecode(nparr, cv2.IMREAD_COLOR)\n",
    "\n",
    "    # do some fancy processing here.... \n",
    "    with graph.as_default():\n",
    "        res = reco.predict(img)\n",
    "\n",
    "    # build a response dict to send back to client\n",
    "    response = {'message': 'Your fruit is {}'.format(res)\n",
    "                }\n",
    "    # encode response using jsonpickle\n",
    "    response_pickled = jsonpickle.encode(response)\n",
    "\n",
    "    return Response(response=response_pickled, status=200, mimetype=\"application/json\")"
   ]
  },
  {
   "cell_type": "code",
   "execution_count": 8,
   "metadata": {},
   "outputs": [
    {
     "name": "stdout",
     "output_type": "stream",
     "text": [
      " * Serving Flask app \"__main__\" (lazy loading)\n",
      " * Environment: production\n",
      "   WARNING: Do not use the development server in a production environment.\n",
      "   Use a production WSGI server instead.\n",
      " * Debug mode: off\n"
     ]
    },
    {
     "name": "stderr",
     "output_type": "stream",
     "text": [
      " * Running on http://0.0.0.0:5000/ (Press CTRL+C to quit)\n"
     ]
    }
   ],
   "source": [
    "# start flask app\n",
    "app.run(host=\"0.0.0.0\", port=5000)"
   ]
  },
  {
   "cell_type": "code",
   "execution_count": 11,
   "metadata": {},
   "outputs": [
    {
     "name": "stdout",
     "output_type": "stream",
     "text": [
      "b'v0.4a-45-gd1621a6'\n",
      " * Serving Flask app \"__main__\" (lazy loading)\n",
      " * Environment: production\n",
      "   WARNING: Do not use the development server in a production environment.\n",
      "   Use a production WSGI server instead.\n",
      " * Debug mode: off\n"
     ]
    },
    {
     "name": "stderr",
     "output_type": "stream",
     "text": [
      " * Running on http://0.0.0.0:5000/ (Press CTRL+C to quit)\n",
      "127.0.0.1 - - [13/Dec/2018 20:16:53] \"\u001b[37mPOST /api/recognize HTTP/1.1\u001b[0m\" 200 -\n"
     ]
    }
   ],
   "source": [
    "import subprocess\n",
    "import os\n",
    "\n",
    "from flask import Flask, request, Response\n",
    "import jsonpickle\n",
    "import numpy as np\n",
    "import cv2\n",
    "import tensorflow as tf\n",
    "\n",
    "from models.recognizer import FruitRecognizer\n",
    "from RequestValidator import getImageByteArray\n",
    "\n",
    "#base_dir = os.path.abspath(os.path.dirname(__file__))\n",
    "model_path = os.path.join('models', \"saved_models\",\n",
    "                          \"model1_vgg16_architecture.json\")\n",
    "weights_path = os.path.join('models', \"saved_models\",\n",
    "                            \"model1_vgg16_best1_weights.hdf5\")\n",
    "\n",
    "global graph\n",
    "graph = tf.get_default_graph()\n",
    "\n",
    "version = subprocess.check_output([\"git\", \"describe\"]).strip()\n",
    "print(version)\n",
    "\n",
    "reco = FruitRecognizer(model_path=model_path,\n",
    "                       weights_path=weights_path)\n",
    "\n",
    "app = Flask(__name__)\n",
    "\n",
    "\n",
    "# route http posts to this method\n",
    "@app.route('/api/recognize', methods=['POST'])\n",
    "def test():\n",
    "\n",
    "    fileReceived = getImageByteArray(request.files)\n",
    "\n",
    "    if not (fileReceived[0]):\n",
    "        response = {'message': 'No file received'}\n",
    "        response_pickled = jsonpickle.encode(response)\n",
    "        return Response(response=response_pickled, status=200,\n",
    "                        mimetype=\"application/json\")\n",
    "\n",
    "    image = np.asarray(bytearray(fileReceived[1]), dtype=\"uint8\")\n",
    "    image = cv2.imdecode(image, cv2.IMREAD_COLOR)\n",
    "\n",
    "    with graph.as_default():\n",
    "        res = reco.predict(image)\n",
    "\n",
    "    # build a response dict to send back to client\n",
    "    response = {'message': 'Your fruit is {}'.format(res)}\n",
    "\n",
    "    response_pickled = jsonpickle.encode(response)\n",
    "\n",
    "    return Response(response=response_pickled, status=200,\n",
    "                    mimetype=\"application/json\")\n",
    "\n",
    "\n",
    "# start flask app\n",
    "app.run(host='0.0.0.0', debug=False, threaded=False)"
   ]
  },
  {
   "cell_type": "code",
   "execution_count": null,
   "metadata": {},
   "outputs": [],
   "source": []
  }
 ],
 "metadata": {
  "kernelspec": {
   "display_name": "Python 3",
   "language": "python",
   "name": "python3"
  },
  "language_info": {
   "codemirror_mode": {
    "name": "ipython",
    "version": 3
   },
   "file_extension": ".py",
   "mimetype": "text/x-python",
   "name": "python",
   "nbconvert_exporter": "python",
   "pygments_lexer": "ipython3",
   "version": "3.6.5"
  }
 },
 "nbformat": 4,
 "nbformat_minor": 2
}
